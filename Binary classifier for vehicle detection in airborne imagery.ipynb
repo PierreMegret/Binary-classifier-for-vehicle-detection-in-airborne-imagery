{
 "cells": [
  {
   "cell_type": "code",
   "execution_count": 1,
   "metadata": {
    "collapsed": false
   },
   "outputs": [],
   "source": [
    "import numpy as np\n",
    "from sklearn import svm, grid_search\n",
    "from matplotlib import pyplot as plt\n",
    "%matplotlib inline\n",
    "from pylab import *\n",
    "import warnings\n",
    "warnings.filterwarnings(\"ignore\", category=DeprecationWarning)\n",
    "import pickle"
   ]
  },
  {
   "cell_type": "markdown",
   "metadata": {},
   "source": [
    "# Data cleaning"
   ]
  },
  {
   "cell_type": "markdown",
   "metadata": {},
   "source": [
    "### Loading the data"
   ]
  },
  {
   "cell_type": "code",
   "execution_count": 2,
   "metadata": {
    "collapsed": false
   },
   "outputs": [
    {
     "data": {
      "text/plain": [
       "(294L,)"
      ]
     },
     "execution_count": 2,
     "metadata": {},
     "output_type": "execute_result"
    }
   ],
   "source": [
    "X_train = np.load('X_trn5.np')\n",
    "Y_train = np.load('Y_trn5.np')\n",
    "X_train.shape"
   ]
  },
  {
   "cell_type": "markdown",
   "metadata": {},
   "source": [
    "### Cleaning the data"
   ]
  },
  {
   "cell_type": "code",
   "execution_count": 12,
   "metadata": {
    "collapsed": false
   },
   "outputs": [
    {
     "data": {
      "text/plain": [
       "(291L, 1600L)"
      ]
     },
     "execution_count": 12,
     "metadata": {},
     "output_type": "execute_result"
    }
   ],
   "source": [
    "l = np.array([len(x) for x in X_train])\n",
    "X_train = X_train[l == 1600]\n",
    "X_train2 = np.array([x for x in X_train])\n",
    "Y_train2 = Y_train[l == 1600]\n",
    "X_train2.shape"
   ]
  },
  {
   "cell_type": "code",
   "execution_count": 23,
   "metadata": {
    "collapsed": false
   },
   "outputs": [
    {
     "data": {
      "text/plain": [
       "(291L,)"
      ]
     },
     "execution_count": 23,
     "metadata": {},
     "output_type": "execute_result"
    }
   ],
   "source": [
    "Y_train2.shape"
   ]
  },
  {
   "cell_type": "markdown",
   "metadata": {},
   "source": [
    "# Cross-Validation"
   ]
  },
  {
   "cell_type": "markdown",
   "metadata": {},
   "source": [
    "### Why a Support Vector Machine Classifier?\n",
    "1. It works really well with clear margin of separation;\n",
    "2. It is effective in high dimensional spaces;\n",
    "3. It is effective in cases where number of dimensions is greater than the number of samples;\n",
    "4. It uses a subset of training points in the decision function (called support vectors), so it is also memory efficient."
   ]
  },
  {
   "cell_type": "code",
   "execution_count": 17,
   "metadata": {
    "collapsed": false
   },
   "outputs": [
    {
     "data": {
      "text/plain": [
       "{'C': 7.1968567300115138, 'gamma': 0.0026826957952797272}"
      ]
     },
     "execution_count": 17,
     "metadata": {},
     "output_type": "execute_result"
    }
   ],
   "source": [
    "parameters = {'gamma':np.logspace(-9, 9, 15), 'C':np.logspace(-3, 3, 15)}\n",
    "\n",
    "model = svm.SVC()\n",
    "cross_validation = grid_search.GridSearchCV(model, parameters)\n",
    "cross_validation.fit(X_train2, Y_train2)\n",
    "cross_validation.best_params_"
   ]
  },
  {
   "cell_type": "markdown",
   "metadata": {},
   "source": [
    "# Building the model"
   ]
  },
  {
   "cell_type": "code",
   "execution_count": 47,
   "metadata": {
    "collapsed": false,
    "scrolled": true
   },
   "outputs": [
    {
     "name": "stdout",
     "output_type": "stream",
     "text": [
      "[81 89] 0.817869415808\n"
     ]
    }
   ],
   "source": [
    "C = cross_validation.best_params_.get('C')\n",
    "gamma = cross_validation.best_params_.get('gamma')\n",
    "\n",
    "classifier = svm.SVC(C, gamma = gamma)\n",
    "classifier.fit(X_train2,Y_train2)\n",
    "print classifier.n_support_, cross_validation.best_score_"
   ]
  },
  {
   "cell_type": "markdown",
   "metadata": {},
   "source": [
    "#### Saving the model"
   ]
  },
  {
   "cell_type": "code",
   "execution_count": 48,
   "metadata": {
    "collapsed": false
   },
   "outputs": [],
   "source": [
    "with open('classifier_Pierre_Megret.pickle','wb') as f:\n",
    "    pickle.dump(classifier, f)\n",
    "f.close()"
   ]
  },
  {
   "cell_type": "markdown",
   "metadata": {},
   "source": [
    "# Testing the classifier"
   ]
  },
  {
   "cell_type": "markdown",
   "metadata": {},
   "source": [
    "##### With a test preview"
   ]
  },
  {
   "cell_type": "code",
   "execution_count": 44,
   "metadata": {
    "collapsed": false
   },
   "outputs": [
    {
     "name": "stdout",
     "output_type": "stream",
     "text": [
      "1.0 [ 1.] 2\n",
      "1.0 [ 1.] 4\n",
      "1.0 [ 1.] 6\n",
      "1.0 [ 1.] 8\n",
      "1.0 [ 1.] 10\n",
      "0.0 [ 0.] 10.25\n",
      "0.0 [ 0.] 10.5\n",
      "0.0 [ 0.] 10.75\n",
      "0.0 [ 0.] 11.0\n",
      "0.0 [ 0.] 11.25\n",
      "You final Score is: 11.25\n"
     ]
    }
   ],
   "source": [
    "### this will be replaced with the real test image\n",
    "im_test = plt.imread('parking_test_preview.png')\n",
    "###\n",
    "\n",
    "# This function takes locations (loc) and an image (im) as input parameters and return the feature vector\n",
    "def my_feature_vector(loc, im, size = 10):\n",
    "    w = size\n",
    "    # a patch of the size w cenetered at loc is extracted as a feature vector\n",
    "    patch = im[loc[1]-w:loc[1]+w, loc[0]-w:loc[0]+w]\n",
    "    p = np.array(patch).flatten()\n",
    "    return p \n",
    "  \n",
    "## 10 preview test locations, which will be replaced with the real set of 100 test locations\n",
    "test_locs_labs = np.load('test_locations_and_labels_preview.np')\n",
    "\n",
    "test_locs   = test_locs_labs[:,0:2]\n",
    "test_labels = test_locs_labs[:,2]\n",
    "\n",
    "# Create the test set\n",
    "X_test = []\n",
    "for loc in test_locs:\n",
    "      X_test.append( my_feature_vector(loc, im_test) )\n",
    "\n",
    "# Load the model        \n",
    "my_classifier = pickle.load(open('classifier_Pierre_Megret.pickle')) \n",
    "\n",
    "# Calculate the hypothetic score of the classifer\n",
    "score = 0\n",
    "for i, xtest in enumerate(X_test): \n",
    "    \n",
    "    predicted = my_classifier.predict(xtest)\n",
    "    \n",
    "    if (test_labels[i] == 1.0)&(predicted == 1.0):\n",
    "        score = score + 2\n",
    "  \n",
    "    if (test_labels[i] == 1.0)&(predicted == 0.0):\n",
    "        score = score - 0.5\n",
    "  \n",
    "    if (test_labels[i] == 0.0)&(predicted == 1.0):\n",
    "        score = score - 0.5\n",
    "        \n",
    "    if (test_labels[i] == 0.0)&(predicted == 0.0):\n",
    "        score = score + 0.25\n",
    "    \n",
    "    print test_labels[i], predicted, score\n",
    "    \n",
    "\n",
    "print  ('You final Score is: %.2f') % score"
   ]
  },
  {
   "cell_type": "markdown",
   "metadata": {},
   "source": [
    "##### With my own testing set"
   ]
  },
  {
   "cell_type": "code",
   "execution_count": 45,
   "metadata": {
    "collapsed": false
   },
   "outputs": [
    {
     "data": {
      "text/plain": [
       "(62L, 1600L)"
      ]
     },
     "execution_count": 45,
     "metadata": {},
     "output_type": "execute_result"
    }
   ],
   "source": [
    "# Create my own test set\n",
    "\n",
    "X_train_test = np.load('X_trn_tst.np')\n",
    "Y_train_test = np.load('Y_trn_tst.np')\n",
    "L = np.array([len(x) for x in X_train_test])\n",
    "X_train_test = X_train_test[L == 1600]\n",
    "X_train_test2 = np.array([x for x in X_train_test])\n",
    "Y_train_test2 = Y_train_test[L == 1600]\n",
    "X_train_test2.shape"
   ]
  },
  {
   "cell_type": "code",
   "execution_count": 46,
   "metadata": {
    "collapsed": false
   },
   "outputs": [
    {
     "name": "stdout",
     "output_type": "stream",
     "text": [
      "You final Score is: 47.75 / 69.75\n"
     ]
    }
   ],
   "source": [
    "# Load the classifer\n",
    "my_classifier = pickle.load(open('classifier_Pierre_Megret.pickle')) \n",
    "\n",
    "# Calculate the score\n",
    "score = 0\n",
    "for i, xtest in enumerate(X_train_test2): \n",
    "    \n",
    "    predicted = my_classifier.predict(xtest)\n",
    "    \n",
    "    if (Y_train_test2[i] == 1.0)&(predicted == 1.0):\n",
    "        score = score + 2\n",
    "  \n",
    "    if (Y_train_test2[i] == 1.0)&(predicted == 0.0):\n",
    "        score = score - 0.5\n",
    "  \n",
    "    if (Y_train_test2[i] == 0.0)&(predicted == 1.0):\n",
    "        score = score - 0.5\n",
    "        \n",
    "    if (Y_train_test2[i] == 0.0)&(predicted == 0.0):\n",
    "        score = score + 0.25\n",
    "    \n",
    "    #print Y_train_test2[i], predicted, score\n",
    "    \n",
    "\n",
    "print  ('You final Score is: %.2f / 69.75') % score"
   ]
  },
  {
   "cell_type": "markdown",
   "metadata": {
    "collapsed": true
   },
   "source": [
    "68, 47 % of accuracy with my own test set"
   ]
  }
 ],
 "metadata": {
  "anaconda-cloud": {},
  "kernelspec": {
   "display_name": "Python [Root]",
   "language": "python",
   "name": "Python [Root]"
  },
  "language_info": {
   "codemirror_mode": {
    "name": "ipython",
    "version": 2
   },
   "file_extension": ".py",
   "mimetype": "text/x-python",
   "name": "python",
   "nbconvert_exporter": "python",
   "pygments_lexer": "ipython2",
   "version": "2.7.12"
  }
 },
 "nbformat": 4,
 "nbformat_minor": 0
}
