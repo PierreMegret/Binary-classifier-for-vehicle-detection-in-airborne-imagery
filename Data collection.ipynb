{
 "cells": [
  {
   "cell_type": "markdown",
   "metadata": {},
   "source": [
    "##### Description of the code\n",
    "A python script to read the image and collect the dataset of car and non-car samples in order to train and tune the parameters of the classifier. The samples are collected interactively at a mouse click as image patches centered at the location\n",
    "of the click (left click is “car” and right click is “not a car” class. No other feature selection is performed.The samples are then saved to disk as NumPy arrays."
   ]
  },
  {
   "cell_type": "code",
   "execution_count": 1,
   "metadata": {
    "collapsed": false
   },
   "outputs": [],
   "source": [
    "from matplotlib import pyplot as plt\n",
    "from pylab import *\n",
    "\n",
    "class DataSetBuilder(object):\n",
    "  \n",
    "    def __init__(self, ax, im, pix_err=1):\n",
    "        self.canvas = ax.get_figure().canvas\n",
    "        self.cid = None\n",
    "        self.pt_lst_pos = []\n",
    "        self.pt_lst_neg = []\n",
    "        self.lab_pos = []\n",
    "        self.lab_neg = []\n",
    "        \n",
    "        self.pt_plot_pos = ax.plot([], [], marker='o', color='r', linestyle='none', zorder=5)[0]\n",
    "        self.pt_plot_neg = ax.plot([], [], marker='o', linestyle='none', zorder=5)[0]\n",
    "        self.pix_err = pix_err\n",
    "        self.connect_sf()\n",
    "        \n",
    "        self.image = im\n",
    "\n",
    "    def set_visible(self, visible):\n",
    "        self.pt_plot.set_visible(visible)\n",
    "\n",
    "    def clear(self):\n",
    "        self.pt_lst_pos = []\n",
    "        self.pt_lst_neg = []\n",
    "        self.redraw()\n",
    "\n",
    "    def connect_sf(self):\n",
    "        if self.cid is None:\n",
    "            self.cid = self.canvas.mpl_connect('button_press_event',\n",
    "                                               self.click_event)\n",
    "\n",
    "    def disconnect_sf(self):\n",
    "        if self.cid is not None:\n",
    "            self.canvas.mpl_disconnect(self.cid)\n",
    "            self.cid = None\n",
    "\n",
    "    def click_event(self, event):\n",
    "        ''' Extracts locations of samples, left click and right click are different classes'''\n",
    "        if event.xdata is None or event.ydata is None:\n",
    "            return\n",
    "        if event.button == 1:\n",
    "            self.pt_lst_pos.append((event.xdata, event.ydata))\n",
    "            self.lab_pos.append(1)\n",
    "        elif event.button == 3:\n",
    "            self.pt_lst_neg.append((event.xdata, event.ydata))\n",
    "            self.lab_neg.append(0)   \n",
    "        self.redraw()\n",
    "\n",
    "    def redraw(self):\n",
    "        if len(self.pt_lst_pos) > 0:\n",
    "            x, y = zip(*self.pt_lst_pos)\n",
    "        else:\n",
    "            x, y = [], []\n",
    "        self.pt_plot_pos.set_xdata(x)\n",
    "        self.pt_plot_pos.set_ydata(y)\n",
    "\n",
    "        if len(self.pt_lst_neg) > 0:\n",
    "            x, y = zip(*self.pt_lst_neg)\n",
    "        else:\n",
    "            x, y = [], []\n",
    "        self.pt_plot_neg.set_xdata(x)\n",
    "        self.pt_plot_neg.set_ydata(y)\n",
    "   \n",
    "        self.canvas.draw()\n",
    "\n",
    "    def return_points(self):\n",
    "        '''Returns the clicked points as [x, y, label] NumPy array'''\n",
    "        data = np.vstack( (np.vstack(np.floor(self.pt_lst_pos)), np.vstack(np.floor(self.pt_lst_neg))) )\n",
    "        labels = np.vstack( (np.vstack(np.floor(self.lab_pos)), np.vstack(np.floor(self.lab_neg))) )\n",
    "        \n",
    "        return np.hstack( (data, labels))\n",
    "\n"
   ]
  },
  {
   "cell_type": "code",
   "execution_count": 6,
   "metadata": {
    "collapsed": false
   },
   "outputs": [],
   "source": [
    "def feature_vector(loc, im, size = 10):\n",
    "    # window size\n",
    "    w = size\n",
    "    # a patch of the size +/- w is extracted as a feature vector\n",
    "    patch = im[loc[1]-w:loc[1]+w, loc[0]-w:loc[0]+w]\n",
    "    p = np.array(patch).flatten()\n",
    "    return p \n",
    "\n",
    "\n",
    "def main():\n",
    "    ax = gca()\n",
    "    im = plt.imread('parking_train.png')\n",
    "    ax.imshow(im)\n",
    "    \n",
    "    cc = DataSetBuilder(ax, im)\n",
    "    plt.show()\n",
    "    \n",
    "    X = []\n",
    "    Y = []\n",
    "    \n",
    "    for c in cc.return_points():\n",
    "        X.append( feature_vector(c, im) )\n",
    "        Y.append(np.array(c[2]))\n",
    "\n",
    " \n",
    "    with open('X_trn_tst.np','wb') as f:\n",
    "        np.save(f, np.array(X))\n",
    "    \n",
    "    with open('Y_trn_tst.np','wb') as f:\n",
    "        np.save(f, np.array(Y))  \n",
    "    \n",
    "    print 'Saved %d samples.' % len(Y)"
   ]
  },
  {
   "cell_type": "code",
   "execution_count": 8,
   "metadata": {
    "collapsed": false
   },
   "outputs": [
    {
     "name": "stdout",
     "output_type": "stream",
     "text": [
      "Saved 62 samples.\n"
     ]
    },
    {
     "name": "stderr",
     "output_type": "stream",
     "text": [
      "C:\\Users\\Utilisateur\\Anaconda2\\lib\\site-packages\\ipykernel\\__main__.py:5: DeprecationWarning: using a non-integer number instead of an integer will result in an error in the future\n"
     ]
    }
   ],
   "source": [
    "main()"
   ]
  }
 ],
 "metadata": {
  "anaconda-cloud": {},
  "kernelspec": {
   "display_name": "Python [Root]",
   "language": "python",
   "name": "Python [Root]"
  },
  "language_info": {
   "codemirror_mode": {
    "name": "ipython",
    "version": 2
   },
   "file_extension": ".py",
   "mimetype": "text/x-python",
   "name": "python",
   "nbconvert_exporter": "python",
   "pygments_lexer": "ipython2",
   "version": "2.7.12"
  }
 },
 "nbformat": 4,
 "nbformat_minor": 0
}
